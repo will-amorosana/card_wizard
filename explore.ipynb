{
 "cells": [
  {
   "cell_type": "code",
   "execution_count": 46,
   "metadata": {},
   "outputs": [],
   "source": [
    "import pandas as pd\n",
    "import numpy as np\n",
    "import seaborn as sns\n",
    "import sklearn as sk\n",
    "import sklearn.neural_network as sk_nn\n",
    "import tensorflow as tf\n",
    "from collections import Counter\n",
    "import json"
   ]
  },
  {
   "cell_type": "code",
   "execution_count": 34,
   "metadata": {},
   "outputs": [],
   "source": [
    "color_dict_long = { # We want to make colorless its own color. This labelling system makes all color combos distinct, which will be more difficult for the classifier\n",
    "    (): 0, # Colorless\n",
    "    (\"W\",): 1, # White\n",
    "    (\"U\",): 2, # Blue\n",
    "    (\"B\",): 3, # Black\n",
    "    (\"R\",): 4, # Red\n",
    "    (\"G\",): 5, # Green\n",
    "    (\"G\", \"W\"): 6, # Selesnya\n",
    "    (\"U\", \"W\"): 7, # Azorius\n",
    "    (\"B\", \"U\"): 8, # Dimir\n",
    "    (\"B\", \"R\"): 9, # Rakdos\n",
    "    (\"G\", \"R\"): 10, # Gruul\n",
    "    (\"B\", \"G\"): 11, # Golgari\n",
    "    (\"B\", \"W\"): 12, # Orzhov\n",
    "    (\"G\", \"U\"): 13, # Simic\n",
    "    (\"R\", \"U\"): 14, # Izzet\n",
    "    (\"R\", \"W\"): 15, # Boros\n",
    "    (\"B\", \"G\", \"R\"): 16,  # Jund\n",
    "    (\"B\", \"G\", \"U\"): 17,  # Sultai\n",
    "    (\"B\", \"G\", \"W\"): 18,  # Abzan\n",
    "    (\"B\", \"R\", \"U\"): 19,  # Grixis\n",
    "    (\"B\", \"R\", \"W\"): 20,  # Mardu\n",
    "    (\"B\", \"U\", \"W\"): 21,  # Esper\n",
    "    (\"G\", \"R\", \"U\"): 22,  # Temur\n",
    "    (\"G\", \"R\", \"W\"): 23,  # Naya\n",
    "    (\"G\", \"U\", \"W\"): 24,  # Bant\n",
    "    (\"R\", \"U\", \"W\"): 25,  # Jeskai\n",
    "    (\"B\", \"G\", \"R\", \"U\"): 26, # Whiteless (Yidris)\n",
    "    (\"B\", \"G\", \"R\", \"W\"): 27, # Blueless (Saskia)\n",
    "    (\"B\", \"G\", \"U\", \"W\"): 28, # Redless (Atraxa)\n",
    "    (\"B\", \"R\", \"U\", \"W\"): 29, # Greenless (Breya)\n",
    "    (\"G\", \"R\", \"U\", \"W\"): 30, # Blackless (Aragorn)\n",
    "    (\"B\", \"G\", \"R\", \"U\", \"W\"): 31 # 5-Color\n",
    "}\n",
    "\n",
    "color_dict_short = {\n",
    "    \"\": 0, # Colorless\n",
    "    \"W\": 1, # White\n",
    "    \"U\": 2, # Blue\n",
    "    \"B\": 3, # Black\n",
    "    \"R\": 4, # Red\n",
    "    \"G\": 5, # Green\n",
    "}"
   ]
  },
  {
   "cell_type": "code",
   "execution_count": 86,
   "metadata": {},
   "outputs": [],
   "source": [
    "with open(\"./common_types.txt\", \"rb\") as f:\n",
    "       common_types = pickle.load(f)\n",
    "\n",
    "cols_include_all = ['colorIdentity', 'colors', 'firstPrinting', 'keywords', 'manaCost', 'manaValue',\n",
    "                     'subtypes', 'supertypes', 'text', 'type', 'types', 'power', 'toughness',  'colorIndicator',\n",
    "                     'name', 'hasAlternativeDeckLimit']\n",
    "cols_include_noncreature = ['loyalty',]\n",
    "cols_edhrec = [\"edhrecRank\", \"edhrecSaltiness\"]\n",
    "cols_legality = ['legalities.commander', 'legalities.duel', 'legalities.explorer',\n",
    "       'legalities.historic', 'legalities.historicbrawl', 'legalities.legacy',\n",
    "       'legalities.modern', 'legalities.oathbreaker', 'legalities.pauper',\n",
    "       'legalities.paupercommander', 'legalities.penny', 'legalities.pioneer',\n",
    "       'legalities.vintage', 'legalities.gladiator','legalities.alchemy',\n",
    "       'legalities.brawl', 'legalities.future', 'legalities.standard', 'legalities.predh',\n",
    "       'legalities.premodern', 'legalities.oldschool',]\n",
    "cols_leadership = ['leadershipSkills.brawl',\n",
    "       'leadershipSkills.commander', 'leadershipSkills.oathbreaker',]\n",
    "\n",
    "def to_feature_name(s: str, typ: bool = False) -> str:\n",
    "    if typ:\n",
    "        return \"f_ct_\" + s.lower().replace(\" \", \"_\")\n",
    "    return \"f_\" + s.lower().replace(\" \", \"_\")\n",
    "\n",
    "def get_kw_list(filename: str):\n",
    "    \"\"\"Get list of keywords from file\"\"\"\n",
    "    with open(filename+\".json\") as f:\n",
    "        json_data = json.load(f)\n",
    "    data = json_data[\"data\"]\n",
    "    ability_words = data[\"abilityWords\"]\n",
    "    kw_abilities = data[\"keywordAbilities\"]\n",
    "    kw_actions = data[\"keywordActions\"]\n",
    "    all_kws = ability_words + kw_abilities + kw_actions\n",
    "    return all_kws, ability_words, kw_abilities, kw_actions\n",
    "\n",
    "def make_types_list(df: pd.DataFrame, n: int) -> None:\n",
    "    \"\"\"From a complete dataset, write a list of the 200 most common creature types to a file called common_types.txt\"\"\"\n",
    "    all_types = []\n",
    "    df[\"subtypes\"].apply(all_types.extend)\n",
    "    all_types = Counter(all_types)\n",
    "    common_types = [x for x,y in all_types.most_common(n)]\n",
    "    with open(\"./common_types.txt\", \"wb\") as f:\n",
    "        pickle.dump(common_types, f)\n",
    "\n",
    "# make_types_list(df, 50)\n",
    "\n",
    "# all_kws, _, _, _ = get_kw_list(\"../data/mtg/Keywords\")\n",
    "all_kws, _, _, _ = get_kw_list(\"./short_keywords\")\n",
    "\n",
    "\n"
   ]
  },
  {
   "cell_type": "code",
   "execution_count": 87,
   "metadata": {},
   "outputs": [
    {
     "name": "stderr",
     "output_type": "stream",
     "text": [
      "C:\\Users\\WDAmo\\AppData\\Local\\Temp\\ipykernel_6136\\3701201456.py:51: PerformanceWarning: DataFrame is highly fragmented.  This is usually the result of calling `frame.insert` many times, which has poor performance.  Consider joining all columns at once using pd.concat(axis=1) instead. To get a de-fragmented frame, use `newframe = frame.copy()`\n",
      "  df[feature] = df[\"subtypes\"].apply(lambda x: 1 if typ in x else 0)\n",
      "C:\\Users\\WDAmo\\AppData\\Local\\Temp\\ipykernel_6136\\3701201456.py:51: PerformanceWarning: DataFrame is highly fragmented.  This is usually the result of calling `frame.insert` many times, which has poor performance.  Consider joining all columns at once using pd.concat(axis=1) instead. To get a de-fragmented frame, use `newframe = frame.copy()`\n",
      "  df[feature] = df[\"subtypes\"].apply(lambda x: 1 if typ in x else 0)\n"
     ]
    }
   ],
   "source": [
    "def load_atomic(filename: str) -> pd.DataFrame:\n",
    "    \"\"\"Load from the Atomic standard files into a dataframe resembling the old data standard.\"\"\"\n",
    "    with open(\"../data/mtg/\"+filename+\".json\") as f:\n",
    "        json_data = json.load(f)  # Load from file\n",
    "    json_data = json_data[\"data\"]\n",
    "    cards = [x[0] for x in json_data.values() if len(x) == 1] # Pull only cards with 1 face (no transform, fuse, split, flip cards, sorry Delver)\n",
    "    df = pd.json_normalize(cards)\n",
    "    return df\n",
    "\n",
    "def prep_df(df: pd.DataFrame, monocolor: bool, creatures: bool, modern: bool) -> pd.DataFrame:\n",
    "    \"\"\"\n",
    "    Preprocesses card DF\n",
    "    @param df: Input DataFrame\n",
    "    @param monocolor: If true, return only cards with 1 or less color\n",
    "    @param creatures: If true, return only creatures\n",
    "    @param modern: If true, filter by modern legality (excludes Uro :'( )\n",
    "    \"\"\"\n",
    "    df[\"num_colors\"] = df[\"colors\"].map(len)\n",
    "    if creatures:\n",
    "        df = df.loc[df['type'].str.contains('Creature')]\n",
    "    if monocolor:\n",
    "        df = df.loc[df['num_colors'] <= 1]\n",
    "    if modern:\n",
    "        df = df.loc[df[\"legalities.modern\"] == \"Legal\"]\n",
    "    df = df[cols_include_all]\n",
    "    df[\"f_is_artifact\"] = df[\"supertypes\"].apply(lambda x: 1 if \"Artifact\" in x else 0)\n",
    "    df[\"f_is_enchantment\"] = df[\"supertypes\"].apply(lambda x: 1 if \"Enchantment\" in x else 0)\n",
    "    df[\"f_cmc\"] = (df[\"manaValue\"] / 7.5) - 1  # [0,15] -> [-1, 1]\n",
    "    df['f_pow'] = df['power'].replace({\"1+*\": 1, \"*\": \"0\", \"*+1\": 1}) # Assume all *'s are 0 (as per the rules)\n",
    "    df['f_pow'] = ((df['f_pow'].astype(int) + 1) / 9) - 1 # [-1,16] -> [-1, 1]\n",
    "    df['f_tough'] = df['toughness'].replace({\"1+*\": 1, \"*\": \"0\", \"*+1\": 1}) # Assume all *'s are 0 (as per the rules)\n",
    "    df['f_tough'] = ((df['f_tough'].astype(int) + 1) / 9) - 1 # [-1,16] -> [-1, 1]\n",
    "\n",
    "    df[\"label_identity\"] = df[\"colorIdentity\"].apply(lambda x: color_dict_long[tuple(x)]) # Could use 'colors' instead, but Kenrith should be classified as a 5C card, and Tasigur as Sultai.\n",
    "    df[\"label_white\"] = df[\"colorIdentity\"].apply(lambda x: 1 if \"W\" in x else 0)\n",
    "    df[\"label_blue\"] = df[\"colorIdentity\"].apply(lambda x: 1 if \"U\" in x else 0)\n",
    "    df[\"label_black\"] = df[\"colorIdentity\"].apply(lambda x: 1 if \"B\" in x else 0)\n",
    "    df[\"label_red\"] = df[\"colorIdentity\"].apply(lambda x: 1 if \"R\" in x else 0)\n",
    "    df[\"label_green\"] = df[\"colorIdentity\"].apply(lambda x: 1 if \"G\" in x else 0)\n",
    "    df[\"label_colorless\"] = df[\"colorIdentity\"].apply(lambda x: 1 if len(x) == 0 else 0)\n",
    "\n",
    "\n",
    "    features = [x for x in list(df.columns) if x.startswith(\"f_\")]\n",
    "\n",
    "    # Binary columns for types and keywords\n",
    "    for kw in all_kws:\n",
    "        feature = to_feature_name(kw)\n",
    "        df[feature] = df[\"text\"].str.contains(kw, case=False, na=0).astype(int)  # This works, but Death's Shadow counts as a creature with Shadow. Could look into using reminder text?\n",
    "    for typ in common_types:\n",
    "        feature = to_feature_name(typ, True)\n",
    "        df[feature] = df[\"subtypes\"].apply(lambda x: 1 if typ in x else 0)\n",
    "    df = df.set_index(\"name\")\n",
    "    return df\n",
    "\n",
    "df = prep_df(load_atomic(\"ModernAtomic\"), monocolor=True, creatures=True, modern=True)\n",
    "\n",
    "\n"
   ]
  },
  {
   "cell_type": "code",
   "execution_count": 88,
   "metadata": {},
   "outputs": [],
   "source": [
    "# SKLearn MLP on mono-colored creatures\n",
    "sk_clf = sk_nn.MLPClassifier(solver='lbfgs', hidden_layer_sizes=(10, 5), max_iter = 2000, random_state=1, verbose= True)\n",
    "\n",
    "features = [x for x in list(df.columns) if x.startswith(\"f_\")]\n",
    "labels = [x for x in list(df.columns) if x.startswith(\"label_\")]\n",
    "\n",
    "ml_df = df[features + labels]\n",
    "\n",
    "sk_scaler = sk.preprocessing.StandardScaler().fit(ml_df)\n",
    "\n",
    "train, test = sk.model_selection.train_test_split(ml_df, test_size = 0.15)\n",
    "train_features, train_labels = train[features], train[labels]\n",
    "test_features, test_labels = test[features], test[labels]\n"
   ]
  },
  {
   "cell_type": "code",
   "execution_count": 91,
   "metadata": {},
   "outputs": [
    {
     "name": "stderr",
     "output_type": "stream",
     "text": [
      "c:\\Users\\WDAmo\\anaconda3\\lib\\site-packages\\sklearn\\neural_network\\_multilayer_perceptron.py:541: ConvergenceWarning: lbfgs failed to converge (status=1):\n",
      "STOP: TOTAL NO. of ITERATIONS REACHED LIMIT.\n",
      "\n",
      "Increase the number of iterations (max_iter) or scale the data as shown in:\n",
      "    https://scikit-learn.org/stable/modules/preprocessing.html\n",
      "  self.n_iter_ = _check_optimize_result(\"lbfgs\", opt_res, self.max_iter)\n"
     ]
    },
    {
     "data": {
      "text/html": [
       "<style>#sk-container-id-6 {color: black;background-color: white;}#sk-container-id-6 pre{padding: 0;}#sk-container-id-6 div.sk-toggleable {background-color: white;}#sk-container-id-6 label.sk-toggleable__label {cursor: pointer;display: block;width: 100%;margin-bottom: 0;padding: 0.3em;box-sizing: border-box;text-align: center;}#sk-container-id-6 label.sk-toggleable__label-arrow:before {content: \"▸\";float: left;margin-right: 0.25em;color: #696969;}#sk-container-id-6 label.sk-toggleable__label-arrow:hover:before {color: black;}#sk-container-id-6 div.sk-estimator:hover label.sk-toggleable__label-arrow:before {color: black;}#sk-container-id-6 div.sk-toggleable__content {max-height: 0;max-width: 0;overflow: hidden;text-align: left;background-color: #f0f8ff;}#sk-container-id-6 div.sk-toggleable__content pre {margin: 0.2em;color: black;border-radius: 0.25em;background-color: #f0f8ff;}#sk-container-id-6 input.sk-toggleable__control:checked~div.sk-toggleable__content {max-height: 200px;max-width: 100%;overflow: auto;}#sk-container-id-6 input.sk-toggleable__control:checked~label.sk-toggleable__label-arrow:before {content: \"▾\";}#sk-container-id-6 div.sk-estimator input.sk-toggleable__control:checked~label.sk-toggleable__label {background-color: #d4ebff;}#sk-container-id-6 div.sk-label input.sk-toggleable__control:checked~label.sk-toggleable__label {background-color: #d4ebff;}#sk-container-id-6 input.sk-hidden--visually {border: 0;clip: rect(1px 1px 1px 1px);clip: rect(1px, 1px, 1px, 1px);height: 1px;margin: -1px;overflow: hidden;padding: 0;position: absolute;width: 1px;}#sk-container-id-6 div.sk-estimator {font-family: monospace;background-color: #f0f8ff;border: 1px dotted black;border-radius: 0.25em;box-sizing: border-box;margin-bottom: 0.5em;}#sk-container-id-6 div.sk-estimator:hover {background-color: #d4ebff;}#sk-container-id-6 div.sk-parallel-item::after {content: \"\";width: 100%;border-bottom: 1px solid gray;flex-grow: 1;}#sk-container-id-6 div.sk-label:hover label.sk-toggleable__label {background-color: #d4ebff;}#sk-container-id-6 div.sk-serial::before {content: \"\";position: absolute;border-left: 1px solid gray;box-sizing: border-box;top: 0;bottom: 0;left: 50%;z-index: 0;}#sk-container-id-6 div.sk-serial {display: flex;flex-direction: column;align-items: center;background-color: white;padding-right: 0.2em;padding-left: 0.2em;position: relative;}#sk-container-id-6 div.sk-item {position: relative;z-index: 1;}#sk-container-id-6 div.sk-parallel {display: flex;align-items: stretch;justify-content: center;background-color: white;position: relative;}#sk-container-id-6 div.sk-item::before, #sk-container-id-6 div.sk-parallel-item::before {content: \"\";position: absolute;border-left: 1px solid gray;box-sizing: border-box;top: 0;bottom: 0;left: 50%;z-index: -1;}#sk-container-id-6 div.sk-parallel-item {display: flex;flex-direction: column;z-index: 1;position: relative;background-color: white;}#sk-container-id-6 div.sk-parallel-item:first-child::after {align-self: flex-end;width: 50%;}#sk-container-id-6 div.sk-parallel-item:last-child::after {align-self: flex-start;width: 50%;}#sk-container-id-6 div.sk-parallel-item:only-child::after {width: 0;}#sk-container-id-6 div.sk-dashed-wrapped {border: 1px dashed gray;margin: 0 0.4em 0.5em 0.4em;box-sizing: border-box;padding-bottom: 0.4em;background-color: white;}#sk-container-id-6 div.sk-label label {font-family: monospace;font-weight: bold;display: inline-block;line-height: 1.2em;}#sk-container-id-6 div.sk-label-container {text-align: center;}#sk-container-id-6 div.sk-container {/* jupyter's `normalize.less` sets `[hidden] { display: none; }` but bootstrap.min.css set `[hidden] { display: none !important; }` so we also need the `!important` here to be able to override the default hidden behavior on the sphinx rendered scikit-learn.org. See: https://github.com/scikit-learn/scikit-learn/issues/21755 */display: inline-block !important;position: relative;}#sk-container-id-6 div.sk-text-repr-fallback {display: none;}</style><div id=\"sk-container-id-6\" class=\"sk-top-container\"><div class=\"sk-text-repr-fallback\"><pre>MLPClassifier(hidden_layer_sizes=(10, 5), max_iter=2000, random_state=1,\n",
       "              solver=&#x27;lbfgs&#x27;, verbose=True)</pre><b>In a Jupyter environment, please rerun this cell to show the HTML representation or trust the notebook. <br />On GitHub, the HTML representation is unable to render, please try loading this page with nbviewer.org.</b></div><div class=\"sk-container\" hidden><div class=\"sk-item\"><div class=\"sk-estimator sk-toggleable\"><input class=\"sk-toggleable__control sk-hidden--visually\" id=\"sk-estimator-id-6\" type=\"checkbox\" checked><label for=\"sk-estimator-id-6\" class=\"sk-toggleable__label sk-toggleable__label-arrow\">MLPClassifier</label><div class=\"sk-toggleable__content\"><pre>MLPClassifier(hidden_layer_sizes=(10, 5), max_iter=2000, random_state=1,\n",
       "              solver=&#x27;lbfgs&#x27;, verbose=True)</pre></div></div></div></div></div>"
      ],
      "text/plain": [
       "MLPClassifier(hidden_layer_sizes=(10, 5), max_iter=2000, random_state=1,\n",
       "              solver='lbfgs', verbose=True)"
      ]
     },
     "execution_count": 91,
     "metadata": {},
     "output_type": "execute_result"
    }
   ],
   "source": [
    "sk_clf.fit(train_features, train_labels[\"label_identity\"])"
   ]
  },
  {
   "cell_type": "code",
   "execution_count": 90,
   "metadata": {},
   "outputs": [
    {
     "data": {
      "text/plain": [
       "(6805, 93)"
      ]
     },
     "execution_count": 90,
     "metadata": {},
     "output_type": "execute_result"
    }
   ],
   "source": [
    "train_features.shape"
   ]
  },
  {
   "cell_type": "markdown",
   "metadata": {},
   "source": [
    "MAIN GOAL: Determine a creature's color identity based on: (number of features)\n",
    "- CMC (1)\n",
    "- Power (1)\n",
    "- Toughness (1)\n",
    "- Artifact / Enchantment Supertype (2)\n",
    "- Type (boolean cols for each of the top 200 tribes) (200)\n",
    "- Keywords (see keywords.json and list of evergreen keywords on https://mtg.fandom.com/wiki/Evergreen) (20-200)\n",
    "- Name? (Would need a way to break this down (https://web.stanford.edu/group/pdplab/pdphandbook/handbookch8.html))\n"
   ]
  },
  {
   "cell_type": "code",
   "execution_count": 80,
   "metadata": {},
   "outputs": [],
   "source": [
    "\n",
    "\n",
    "evergreen_keywords = [\"Activate\", \"Attach\", \"Cast\", \"Counter\", \"Create\", \"Destroy\", \"Discard\", \"Exchange\", \"Exile\", \"Fight\",\n",
    "                       \"Mill\", \"Play\", \"Reveal\", \"Sacrifice\", \"Scry\", \"Search\", \"Shuffle\", \"Tap\", \"Untap\"]\n",
    "my_common_words = [\"Enchantment\", \"Artifact\", \"+1/+1\", \"Token\", \"Draw\" \"Land\", \"Nonland\", \"Spell\", \"Creature\",]\n",
    "evergreen_abilities = [\"Deathtouch\", \"Defender\", \"Double Strike\", \"Enchant\", \"Equip\", \"First Strike\", \"Flash\", \"Flying\",\n",
    "                        \"Haste\", \"Hexproof\", \"Indestructible\", \"Lifelink\", \"Menace\", \"Protection\", \"Reach\", \"Trample\",\n",
    "                          \"Vigilance\", \"Ward\", \"Regenerate\", \"Shroud\", \"Intimidate\", \"Prowess\"]\n",
    "all_keywords = evergreen_keywords + my_common_words + evergreen_abilities"
   ]
  },
  {
   "cell_type": "markdown",
   "metadata": {},
   "source": [
    "# Issue #1: Multi-faced cards from the Atomic dataset.\n",
    "The more robust atmoic dataset contains split entries for DFC's, fuse cards, etc. How do we count these cards?\n",
    "A. Remove them from the dataset.\n",
    "    # By far the easiest approach.\n",
    "B. Look at just the front.\n",
    "    # Cleanest, will cause some outliers, namely on meld/fuse/transform cards\n",
    "C. Add them as an additional row.\n",
    "    # More accurate, but will likely be outliers\n",
    "D. Add extra columns\n",
    "    # Most accurate, but will mess with any ML algo if not weighted properly.\n",
    "\n",
    "# Issue #2: Keywords Overlap with Creature Names (Death's Shadow, Flying Men)\n",
    "\n",
    "# Issue 3: The word Counter\n",
    "\n",
    "# Issue 4: Parsing Card Names"
   ]
  }
 ],
 "metadata": {
  "kernelspec": {
   "display_name": "base",
   "language": "python",
   "name": "python3"
  },
  "language_info": {
   "codemirror_mode": {
    "name": "ipython",
    "version": 3
   },
   "file_extension": ".py",
   "mimetype": "text/x-python",
   "name": "python",
   "nbconvert_exporter": "python",
   "pygments_lexer": "ipython3",
   "version": "3.10.9"
  },
  "orig_nbformat": 4
 },
 "nbformat": 4,
 "nbformat_minor": 2
}
