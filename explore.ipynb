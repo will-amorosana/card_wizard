{
 "cells": [
  {
   "cell_type": "code",
   "execution_count": 39,
   "metadata": {},
   "outputs": [],
   "source": [
    "import pandas as pd\n",
    "import numpy as np\n",
    "import seaborn as sns\n",
    "import sklearn as sk\n",
    "import tensorflow as tf\n",
    "from collections import Counter\n",
    "import json"
   ]
  },
  {
   "cell_type": "code",
   "execution_count": 5,
   "metadata": {},
   "outputs": [],
   "source": [
    "cards = pd.read_json(\"../data/mtg/ModernCards.json\").transpose()"
   ]
  },
  {
   "cell_type": "code",
   "execution_count": 8,
   "metadata": {},
   "outputs": [],
   "source": [
    "cols = cards.columns\n",
    "cols_to_include = ['colorIdentity', 'colors', 'convertedManaCost', 'manaCost', 'name',\n",
    "                    'subtypes', 'supertypes', 'text', 'type', 'types',\n",
    "                    'power', 'toughness', 'names', 'side', 'loyalty']\n",
    "cards = cards[cols_to_include]\n",
    "creatures = cards.loc[cards['type'].str.contains('Creature')]\n",
    "creatures[\"num_colors\"] = creatures[\"colors\"].map(len)\n",
    "mono_creatures = creatures.loc[creatures['num_colors'] <= 1]"
   ]
  },
  {
   "cell_type": "markdown",
   "metadata": {},
   "source": [
    "MAIN GOAL: Determine a creature's color identity based on: (number of features)\n",
    "- CMC (1)\n",
    "- Power (1)\n",
    "- Toughness (1)\n",
    "- Type (boolean cols for each of the top 100 tribes) (100)\n",
    "- Keywords (see keywords.json and list of evergreen keywords on https://mtg.fandom.com/wiki/Evergreen) (20-100)\n",
    "- Name? (Would need a way to break this down (https://web.stanford.edu/group/pdplab/pdphandbook/handbookch8.html))\n"
   ]
  },
  {
   "cell_type": "code",
   "execution_count": 44,
   "metadata": {},
   "outputs": [],
   "source": [
    "all_type_labels = Counter([x for l in mono_creatures['subtypes'] for x in l])\n",
    "all_type_labels.most_common(100)\n",
    "evergreen_keywords = [\"Activate\", \"Attach\", \"Cast\", \"Counter\", \"Create\", \"Destroy\", \"Discard\", \"Exchange\", \"Exile\", \"Fight\",\n",
    "                       \"Mill\", \"Play\", \"Reveal\", \"Sacrifice\", \"Scry\", \"Search\", \"Shuffle\", \"Tap\", \"Untap\"]\n",
    "my_common_words = [\"Enchantment\", \"Artifact\", \"+1/+1\", \"Token\", \"Draw\" \"Land\", \"Nonland\", \"Spell\", \"Creature\",]\n",
    "evergreen_abilities = [\"Deathtouch\", \"Defender\", \"Double Strike\", \"Enchant\", \"Equip\", \"First Strike\", \"Flash\", \"Flying\",\n",
    "                        \"Haste\", \"Hexproof\", \"Indestructible\", \"Lifelink\", \"Menace\", \"Protection\", \"Reach\", \"Trample\",\n",
    "                          \"Vigilance\", \"Ward\", \"Regenerate\", \"Shroud\", \"Intimidate\", \"Prowess\"]\n"
   ]
  },
  {
   "cell_type": "code",
   "execution_count": 35,
   "metadata": {},
   "outputs": [
    {
     "name": "stderr",
     "output_type": "stream",
     "text": [
      "C:\\Users\\WDAmo\\AppData\\Local\\Temp\\ipykernel_11412\\3413877128.py:1: SettingWithCopyWarning: \n",
      "A value is trying to be set on a copy of a slice from a DataFrame.\n",
      "Try using .loc[row_indexer,col_indexer] = value instead\n",
      "\n",
      "See the caveats in the documentation: https://pandas.pydata.org/pandas-docs/stable/user_guide/indexing.html#returning-a-view-versus-a-copy\n",
      "  mono_creatures['f_pow'] = mono_creatures['power'].replace({\"1+*\": 1, \"*\": \"0\"}) # Assume all *'s are 0 (as per the rules)\n",
      "C:\\Users\\WDAmo\\AppData\\Local\\Temp\\ipykernel_11412\\3413877128.py:2: SettingWithCopyWarning: \n",
      "A value is trying to be set on a copy of a slice from a DataFrame.\n",
      "Try using .loc[row_indexer,col_indexer] = value instead\n",
      "\n",
      "See the caveats in the documentation: https://pandas.pydata.org/pandas-docs/stable/user_guide/indexing.html#returning-a-view-versus-a-copy\n",
      "  mono_creatures['f_pow'] = ((mono_creatures['f_pow'].astype(int) + 1) / 9) - 1 # [-1,16] -> [-1, 1]\n",
      "C:\\Users\\WDAmo\\AppData\\Local\\Temp\\ipykernel_11412\\3413877128.py:3: SettingWithCopyWarning: \n",
      "A value is trying to be set on a copy of a slice from a DataFrame.\n",
      "Try using .loc[row_indexer,col_indexer] = value instead\n",
      "\n",
      "See the caveats in the documentation: https://pandas.pydata.org/pandas-docs/stable/user_guide/indexing.html#returning-a-view-versus-a-copy\n",
      "  mono_creatures['f_tough'] = mono_creatures['toughness'].replace({\"1+*\": 1, \"*\": \"0\"}) # Assume all *'s are 0 (as per the rules)\n",
      "C:\\Users\\WDAmo\\AppData\\Local\\Temp\\ipykernel_11412\\3413877128.py:4: SettingWithCopyWarning: \n",
      "A value is trying to be set on a copy of a slice from a DataFrame.\n",
      "Try using .loc[row_indexer,col_indexer] = value instead\n",
      "\n",
      "See the caveats in the documentation: https://pandas.pydata.org/pandas-docs/stable/user_guide/indexing.html#returning-a-view-versus-a-copy\n",
      "  mono_creatures['f_tough'] = ((mono_creatures['f_tough'].astype(int) + 1) / 9) - 1 # [-1,16] -> [-1, 1]\n"
     ]
    },
    {
     "data": {
      "text/plain": [
       "-0.666667    1642\n",
       "-0.777778    1527\n",
       "-0.555556    1287\n",
       "-0.444444     830\n",
       "-0.333333     477\n",
       "-0.222222     228\n",
       "-0.888889     163\n",
       "-0.111111      95\n",
       " 0.000000      43\n",
       " 0.111111      18\n",
       " 0.222222      15\n",
       " 0.555556       7\n",
       " 0.333333       6\n",
       " 0.444444       4\n",
       " 0.777778       2\n",
       " 0.888889       1\n",
       "-1.000000       1\n",
       "Name: f_tough, dtype: int64"
      ]
     },
     "execution_count": 35,
     "metadata": {},
     "output_type": "execute_result"
    }
   ],
   "source": [
    "mono_creatures[\"f_cmc\"] = (mono_creatures / 7.5) - 1  # [0,15] -> [-1, 1]\n",
    "\n",
    "mono_creatures['f_pow'] = mono_creatures['power'].replace({\"1+*\": 1, \"*\": \"0\"}) # Assume all *'s are 0 (as per the rules)\n",
    "mono_creatures['f_pow'] = ((mono_creatures['f_pow'].astype(int) + 1) / 9) - 1 # [-1,16] -> [-1, 1]\n",
    "\n",
    "mono_creatures['f_tough'] = mono_creatures['toughness'].replace({\"1+*\": 1, \"*\": \"0\"}) # Assume all *'s are 0 (as per the rules)\n",
    "mono_creatures['f_tough'] = ((mono_creatures['f_tough'].astype(int) + 1) / 9) - 1 # [-1,16] -> [-1, 1]"
   ]
  },
  {
   "cell_type": "code",
   "execution_count": 42,
   "metadata": {},
   "outputs": [
    {
     "data": {
      "text/plain": [
       "217"
      ]
     },
     "execution_count": 42,
     "metadata": {},
     "output_type": "execute_result"
    }
   ],
   "source": [
    "with open(\"../data/mtg/Keywords.json\") as f:\n",
    "    keywords = json.load(f)\n",
    "keywords = keywords['abilityWords'] + keywords['keywordAbilities'] + keywords['keywordActions']\n",
    "len(keywords)"
   ]
  },
  {
   "cell_type": "code",
   "execution_count": 43,
   "metadata": {},
   "outputs": [
    {
     "data": {
      "text/html": [
       "<div>\n",
       "<style scoped>\n",
       "    .dataframe tbody tr th:only-of-type {\n",
       "        vertical-align: middle;\n",
       "    }\n",
       "\n",
       "    .dataframe tbody tr th {\n",
       "        vertical-align: top;\n",
       "    }\n",
       "\n",
       "    .dataframe thead th {\n",
       "        text-align: right;\n",
       "    }\n",
       "</style>\n",
       "<table border=\"1\" class=\"dataframe\">\n",
       "  <thead>\n",
       "    <tr style=\"text-align: right;\">\n",
       "      <th></th>\n",
       "      <th>colorIdentity</th>\n",
       "      <th>colors</th>\n",
       "      <th>convertedManaCost</th>\n",
       "      <th>manaCost</th>\n",
       "      <th>name</th>\n",
       "      <th>subtypes</th>\n",
       "      <th>supertypes</th>\n",
       "      <th>text</th>\n",
       "      <th>type</th>\n",
       "      <th>types</th>\n",
       "      <th>power</th>\n",
       "      <th>toughness</th>\n",
       "      <th>names</th>\n",
       "      <th>side</th>\n",
       "      <th>loyalty</th>\n",
       "    </tr>\n",
       "  </thead>\n",
       "  <tbody>\n",
       "    <tr>\n",
       "      <th>Glimpse the Unthinkable</th>\n",
       "      <td>[B, U]</td>\n",
       "      <td>[B, U]</td>\n",
       "      <td>2.0</td>\n",
       "      <td>{U}{B}</td>\n",
       "      <td>Glimpse the Unthinkable</td>\n",
       "      <td>[]</td>\n",
       "      <td>[]</td>\n",
       "      <td>Target player puts the top ten cards of their ...</td>\n",
       "      <td>Sorcery</td>\n",
       "      <td>[Sorcery]</td>\n",
       "      <td>NaN</td>\n",
       "      <td>NaN</td>\n",
       "      <td>NaN</td>\n",
       "      <td>NaN</td>\n",
       "      <td>NaN</td>\n",
       "    </tr>\n",
       "  </tbody>\n",
       "</table>\n",
       "</div>"
      ],
      "text/plain": [
       "                        colorIdentity  colors convertedManaCost manaCost  \\\n",
       "Glimpse the Unthinkable        [B, U]  [B, U]               2.0   {U}{B}   \n",
       "\n",
       "                                            name subtypes supertypes  \\\n",
       "Glimpse the Unthinkable  Glimpse the Unthinkable       []         []   \n",
       "\n",
       "                                                                      text  \\\n",
       "Glimpse the Unthinkable  Target player puts the top ten cards of their ...   \n",
       "\n",
       "                            type      types power toughness names side loyalty  \n",
       "Glimpse the Unthinkable  Sorcery  [Sorcery]   NaN       NaN   NaN  NaN     NaN  "
      ]
     },
     "execution_count": 43,
     "metadata": {},
     "output_type": "execute_result"
    }
   ],
   "source": [
    "cards.loc[cards['name'] == 'Glimpse the Unthinkable']"
   ]
  }
 ],
 "metadata": {
  "kernelspec": {
   "display_name": "base",
   "language": "python",
   "name": "python3"
  },
  "language_info": {
   "codemirror_mode": {
    "name": "ipython",
    "version": 3
   },
   "file_extension": ".py",
   "mimetype": "text/x-python",
   "name": "python",
   "nbconvert_exporter": "python",
   "pygments_lexer": "ipython3",
   "version": "3.10.9"
  },
  "orig_nbformat": 4
 },
 "nbformat": 4,
 "nbformat_minor": 2
}
