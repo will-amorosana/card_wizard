{
 "cells": [
  {
   "cell_type": "code",
   "execution_count": 1,
   "metadata": {},
   "outputs": [],
   "source": [
    "from src.models import preprocess_df, decision_tree, neural_net_classifier\n",
    "from src.mtg_json import load_atomic, prep_df"
   ]
  },
  {
   "cell_type": "code",
   "execution_count": 2,
   "metadata": {},
   "outputs": [
    {
     "name": "stderr",
     "output_type": "stream",
     "text": [
      "c:\\GitHub\\card_wizard\\src\\mtg_json.py:59: PerformanceWarning: DataFrame is highly fragmented.  This is usually the result of calling `frame.insert` many times, which has poor performance.  Consider joining all columns at once using pd.concat(axis=1) instead. To get a de-fragmented frame, use `newframe = frame.copy()`\n",
      "  df[feature] = df[\"subtypes\"].apply(lambda x: 1 if typ in x else 0)\n",
      "c:\\GitHub\\card_wizard\\src\\mtg_json.py:59: PerformanceWarning: DataFrame is highly fragmented.  This is usually the result of calling `frame.insert` many times, which has poor performance.  Consider joining all columns at once using pd.concat(axis=1) instead. To get a de-fragmented frame, use `newframe = frame.copy()`\n",
      "  df[feature] = df[\"subtypes\"].apply(lambda x: 1 if typ in x else 0)\n"
     ]
    }
   ],
   "source": [
    "df = prep_df(load_atomic(\"ModernAtomic\"), monocolor=True, creatures=True, legal_format='modern')\n",
    "ml_df,  train_features, train_labels, test_features, test_labels = preprocess_df(df)\n"
   ]
  },
  {
   "cell_type": "code",
   "execution_count": 3,
   "metadata": {},
   "outputs": [
    {
     "data": {
      "text/plain": [
       "0.5278491859468724"
      ]
     },
     "execution_count": 3,
     "metadata": {},
     "output_type": "execute_result"
    }
   ],
   "source": [
    "tree_score, tree_model = decision_tree(train_features, train_labels, test_features, test_labels)"
   ]
  },
  {
   "cell_type": "code",
   "execution_count": null,
   "metadata": {},
   "outputs": [],
   "source": [
    "nn_score, nn_model = neural_net_classifier(train_features, train_labels, test_features, test_labels)"
   ]
  },
  {
   "cell_type": "markdown",
   "metadata": {},
   "source": [
    "MAIN GOAL: Determine a creature's color identity based on: (number of features)\n",
    "- CMC (1)\n",
    "- Power (1)\n",
    "- Toughness (1)\n",
    "- Artifact / Enchantment Supertype (2)\n",
    "- Type (boolean cols for each of the top 200 tribes) (200)\n",
    "- Keywords (see keywords.json and list of evergreen keywords on https://mtg.fandom.com/wiki/Evergreen) (20-200)\n",
    "- Name? (Would need a way to break this down (https://web.stanford.edu/group/pdplab/pdphandbook/handbookch8.html))\n"
   ]
  },
  {
   "cell_type": "markdown",
   "metadata": {},
   "source": [
    "# Issue #1: Multi-faced cards from the Atomic dataset.\n",
    "The more robust atmoic dataset contains split entries for DFC's, fuse cards, etc. How do we count these cards?\n",
    "A. Remove them from the dataset.\n",
    "    # By far the easiest approach.\n",
    "B. Look at just the front.\n",
    "    # Cleanest, will cause some outliers, namely on meld/fuse/transform cards\n",
    "C. Add them as an additional row.\n",
    "    # More accurate, but will likely be outliers\n",
    "D. Add extra columns\n",
    "    # Most accurate, but will mess with any ML algo if not weighted properly.\n",
    "\n",
    "# Issue #2: Keywords Overlap with Creature Names (Death's Shadow, Flying Men)\n",
    "This is mostly fine. For one thing, many of these cards match color identity with their mechanic (Flying men are blue, DS is black, etc.)\n",
    "We could look into some kind of way to differentiate based on regex or pattern matching, but let's leave that for now.   \n",
    "\n",
    "# Issue 3: The word Counter\n",
    "So, despite being able to name things whatever they want, and repeated oracle changes to simplify and clarify wording, MTG still uses the word 'counter' to mean two different things: a keyword action meaning \"Remove this spell or ability from the stack\", and a board object placed on permanents i.e. +1/+1 counters, loyalty counters. Countering things (first interpretation) is a blue-coded mechanic, while counters (second interpretation) are a fairly universal mechanic, maybe leaning white and green but with no real identity. Again, we could look into differentiating these by string matching (\"counter target\" vs \"+1/+1 counter\"), but since counters don't really have an identity, we're changing \"counter\" in keyword abilities to \"counter target\". There are also way too many strings about the other kind of counter to simply process (counter vs counters, etc.). This does remove Baral, the bluest creature ever, from the counter keyword column, but whatever.\n",
    "\n",
    "# Issue 4: Parsing Card Names\n",
    "This might be an entirely different ML task. There are packages to determine semantic vectors of words. Use the names of each card (sum of all word vectors) as a feature set. A card like Death's Shadow would be easy peasy. Brushwagg, on the other hand, maybe not. Proper names like Olivia Voldaren, or worse, Drizz't Dourden, would be all but impossible.\n",
    "\n",
    "# Issue 5: Improving Performance\n",
    "Current accuracy for testing dataset sits at about 64%- not great for a binary classifier, but pretty good for a classifier with 6 classes (chance rate of 17%). A binary classifier on enemy-colors cards, (blue and green, probably the most disparate colors in terms of creatures) had an accuracy of 85%.\n",
    "\n",
    "# Issue 6: PCA\n",
    "PCA didn't improve the performance of the neural net, as expected (59.1% w/ PCA and 64% without). It also reduced performance on the decision tree (45%  with and 54% without). This makes sense, since we lose information with PCA. Could be useful for clustering algo's!"
   ]
  }
 ],
 "metadata": {
  "kernelspec": {
   "display_name": "base",
   "language": "python",
   "name": "python3"
  },
  "language_info": {
   "codemirror_mode": {
    "name": "ipython",
    "version": 3
   },
   "file_extension": ".py",
   "mimetype": "text/x-python",
   "name": "python",
   "nbconvert_exporter": "python",
   "pygments_lexer": "ipython3",
   "version": "3.10.9"
  },
  "orig_nbformat": 4
 },
 "nbformat": 4,
 "nbformat_minor": 2
}
